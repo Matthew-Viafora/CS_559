{
 "cells": [
  {
   "cell_type": "markdown",
   "id": "66d2f51b",
   "metadata": {},
   "source": [
    "# CS 559 HW1 - Matthew Viafora"
   ]
  },
  {
   "cell_type": "markdown",
   "id": "bd3ffb14",
   "metadata": {},
   "source": [
    "## Imports"
   ]
  },
  {
   "cell_type": "code",
   "execution_count": 230,
   "id": "17ba6ba5",
   "metadata": {},
   "outputs": [],
   "source": [
    "from sklearn import datasets\n",
    "import pandas as pd\n",
    "import numpy as np\n",
    "from sklearn.model_selection import train_test_split\n",
    "import matplotlib.pyplot as plt"
   ]
  },
  {
   "cell_type": "markdown",
   "id": "7523c965",
   "metadata": {},
   "source": [
    "## Load and view datset"
   ]
  },
  {
   "cell_type": "code",
   "execution_count": 231,
   "id": "a02b9fd1",
   "metadata": {},
   "outputs": [],
   "source": [
    "iris = datasets.load_iris()"
   ]
  },
  {
   "cell_type": "code",
   "execution_count": 232,
   "id": "93928d39",
   "metadata": {},
   "outputs": [],
   "source": [
    "iris_df = pd.DataFrame(data= np.c_[iris['data'], iris['target']],\n",
    "                     columns= iris['feature_names'] + ['target'])"
   ]
  },
  {
   "cell_type": "code",
   "execution_count": 233,
   "id": "2149d7f4",
   "metadata": {},
   "outputs": [
    {
     "data": {
      "text/html": [
       "<div>\n",
       "<style scoped>\n",
       "    .dataframe tbody tr th:only-of-type {\n",
       "        vertical-align: middle;\n",
       "    }\n",
       "\n",
       "    .dataframe tbody tr th {\n",
       "        vertical-align: top;\n",
       "    }\n",
       "\n",
       "    .dataframe thead th {\n",
       "        text-align: right;\n",
       "    }\n",
       "</style>\n",
       "<table border=\"1\" class=\"dataframe\">\n",
       "  <thead>\n",
       "    <tr style=\"text-align: right;\">\n",
       "      <th></th>\n",
       "      <th>sepal length (cm)</th>\n",
       "      <th>sepal width (cm)</th>\n",
       "      <th>petal length (cm)</th>\n",
       "      <th>petal width (cm)</th>\n",
       "      <th>target</th>\n",
       "    </tr>\n",
       "  </thead>\n",
       "  <tbody>\n",
       "    <tr>\n",
       "      <th>0</th>\n",
       "      <td>5.1</td>\n",
       "      <td>3.5</td>\n",
       "      <td>1.4</td>\n",
       "      <td>0.2</td>\n",
       "      <td>0.0</td>\n",
       "    </tr>\n",
       "    <tr>\n",
       "      <th>1</th>\n",
       "      <td>4.9</td>\n",
       "      <td>3.0</td>\n",
       "      <td>1.4</td>\n",
       "      <td>0.2</td>\n",
       "      <td>0.0</td>\n",
       "    </tr>\n",
       "    <tr>\n",
       "      <th>2</th>\n",
       "      <td>4.7</td>\n",
       "      <td>3.2</td>\n",
       "      <td>1.3</td>\n",
       "      <td>0.2</td>\n",
       "      <td>0.0</td>\n",
       "    </tr>\n",
       "    <tr>\n",
       "      <th>3</th>\n",
       "      <td>4.6</td>\n",
       "      <td>3.1</td>\n",
       "      <td>1.5</td>\n",
       "      <td>0.2</td>\n",
       "      <td>0.0</td>\n",
       "    </tr>\n",
       "    <tr>\n",
       "      <th>4</th>\n",
       "      <td>5.0</td>\n",
       "      <td>3.6</td>\n",
       "      <td>1.4</td>\n",
       "      <td>0.2</td>\n",
       "      <td>0.0</td>\n",
       "    </tr>\n",
       "  </tbody>\n",
       "</table>\n",
       "</div>"
      ],
      "text/plain": [
       "   sepal length (cm)  sepal width (cm)  petal length (cm)  petal width (cm)  \\\n",
       "0                5.1               3.5                1.4               0.2   \n",
       "1                4.9               3.0                1.4               0.2   \n",
       "2                4.7               3.2                1.3               0.2   \n",
       "3                4.6               3.1                1.5               0.2   \n",
       "4                5.0               3.6                1.4               0.2   \n",
       "\n",
       "   target  \n",
       "0     0.0  \n",
       "1     0.0  \n",
       "2     0.0  \n",
       "3     0.0  \n",
       "4     0.0  "
      ]
     },
     "execution_count": 233,
     "metadata": {},
     "output_type": "execute_result"
    }
   ],
   "source": [
    "iris_df.head()"
   ]
  },
  {
   "cell_type": "markdown",
   "id": "bbf41224",
   "metadata": {},
   "source": [
    "## Replace with our classes (Virginica and Non-Virginica)"
   ]
  },
  {
   "cell_type": "code",
   "execution_count": 234,
   "id": "7965c48f",
   "metadata": {},
   "outputs": [],
   "source": [
    "iris_df['target'] = iris_df['target'].replace([1],0)\n",
    "iris_df['target'] = iris_df['target'].replace([2],1)"
   ]
  },
  {
   "cell_type": "code",
   "execution_count": 235,
   "id": "f8eba20b",
   "metadata": {},
   "outputs": [],
   "source": [
    "x = iris_df.drop('target',1)\n",
    "y = iris_df['target']"
   ]
  },
  {
   "cell_type": "markdown",
   "id": "5f81f437",
   "metadata": {},
   "source": [
    "## Split into 80% training and 20% testing"
   ]
  },
  {
   "cell_type": "code",
   "execution_count": 236,
   "id": "2c357d35",
   "metadata": {},
   "outputs": [],
   "source": [
    "x_train,x_test,y_train,y_test=train_test_split(x,y,test_size=0.2)"
   ]
  },
  {
   "cell_type": "markdown",
   "id": "9d7557c3",
   "metadata": {},
   "source": [
    "## Use (stochastic) gradient descent:w(τ+1)=w(τ)−η∇E(w(τ))."
   ]
  },
  {
   "cell_type": "code",
   "execution_count": 237,
   "id": "0619bec4",
   "metadata": {},
   "outputs": [],
   "source": [
    "def sigmoid(x):\n",
    "    return 1/(1+np.exp(-x))"
   ]
  },
  {
   "cell_type": "code",
   "execution_count": 279,
   "id": "04e5eb61",
   "metadata": {},
   "outputs": [],
   "source": [
    "def train(X, y):\n",
    "    \n",
    "    # Random intilization of weights\n",
    "    w = np.random.rand(X.shape[1],1)\n",
    "    \n",
    "    ## Convert to numpy array\n",
    "    X_m = X.to_numpy()\n",
    "    y = y.to_numpy()\n",
    "\n",
    "    # Epochs\n",
    "    for x in range(1000):\n",
    "\n",
    "        # For each training data\n",
    "        for i in range(X.shape[0]):\n",
    "            a = np.dot(X_m[i,0:],w)\n",
    "            yi = sigmoid(a)\n",
    "            \n",
    "            # for each parameter\n",
    "            for j in range(w.shape[0]):\n",
    "    #             print(\"Before: \", w[j])\n",
    "\n",
    "                w[j] -= 0.05*((yi-y[i])*X_m[i,j])\n",
    "\n",
    "    #             print(\"After: \", w[j])\n",
    "    #             print(\"____________________\")\n",
    "\n",
    "            \n",
    "    return w"
   ]
  },
  {
   "cell_type": "code",
   "execution_count": 280,
   "id": "86fa41d0",
   "metadata": {},
   "outputs": [],
   "source": [
    "w = train(x_train, y_train)"
   ]
  },
  {
   "cell_type": "code",
   "execution_count": 281,
   "id": "80314cc1",
   "metadata": {},
   "outputs": [
    {
     "name": "stdout",
     "output_type": "stream",
     "text": [
      "[[-6.67616416]\n",
      " [-7.43029614]\n",
      " [ 9.22975579]\n",
      " [12.50930087]]\n"
     ]
    }
   ],
   "source": [
    "print(w)"
   ]
  },
  {
   "cell_type": "markdown",
   "id": "6316bec4",
   "metadata": {},
   "source": [
    "## Predictions/Accuracy"
   ]
  },
  {
   "cell_type": "code",
   "execution_count": 282,
   "id": "f5589375",
   "metadata": {
    "collapsed": true
   },
   "outputs": [
    {
     "ename": "AttributeError",
     "evalue": "'numpy.ndarray' object has no attribute 'to_numpy'",
     "output_type": "error",
     "traceback": [
      "\u001b[0;31m---------------------------------------------------------------------------\u001b[0m",
      "\u001b[0;31mAttributeError\u001b[0m                            Traceback (most recent call last)",
      "\u001b[0;32m<ipython-input-282-a44617bc581c>\u001b[0m in \u001b[0;36m<module>\u001b[0;34m\u001b[0m\n\u001b[0;32m----> 1\u001b[0;31m \u001b[0mx_test\u001b[0m \u001b[0;34m=\u001b[0m \u001b[0mx_test\u001b[0m\u001b[0;34m.\u001b[0m\u001b[0mto_numpy\u001b[0m\u001b[0;34m(\u001b[0m\u001b[0;34m)\u001b[0m\u001b[0;34m\u001b[0m\u001b[0;34m\u001b[0m\u001b[0m\n\u001b[0m\u001b[1;32m      2\u001b[0m \u001b[0my_test\u001b[0m \u001b[0;34m=\u001b[0m \u001b[0my_test\u001b[0m\u001b[0;34m.\u001b[0m\u001b[0mto_numpy\u001b[0m\u001b[0;34m(\u001b[0m\u001b[0;34m)\u001b[0m\u001b[0;34m\u001b[0m\u001b[0;34m\u001b[0m\u001b[0m\n",
      "\u001b[0;31mAttributeError\u001b[0m: 'numpy.ndarray' object has no attribute 'to_numpy'"
     ]
    }
   ],
   "source": [
    "x_test = x_test.to_numpy()\n",
    "y_test = y_test.to_numpy()"
   ]
  },
  {
   "cell_type": "code",
   "execution_count": 283,
   "id": "9f3e8926",
   "metadata": {
    "scrolled": true
   },
   "outputs": [
    {
     "name": "stdout",
     "output_type": "stream",
     "text": [
      "___________________________________________________\n",
      "ACCURACY:  0.9333333333333333\n"
     ]
    }
   ],
   "source": [
    "correct = 0\n",
    "for i in range(x_test.shape[0]):\n",
    "    prediction = None\n",
    "    a = np.dot(w.T, x_test[i, 0:])\n",
    "    pre_prediction = sigmoid(a)\n",
    "    if pre_prediction > 0.5:\n",
    "        prediction = 1\n",
    "    else:\n",
    "        prediction = 0\n",
    "#     print(prediction)\n",
    "#     print(prediction,\" vs \", y_test[i])\n",
    "    if (prediction == y_test[i]):\n",
    "#         print(\"CORRECT\")\n",
    "        correct+=1\n",
    "#     else:\n",
    "#         print(\"INCORRECT\")\n",
    "#     print(\"__________________\")\n",
    "    \n",
    "print(\"___________________________________________________\")\n",
    "print(\"ACCURACY: \", correct/y_test.shape[0])"
   ]
  },
  {
   "cell_type": "markdown",
   "id": "4af9ab35",
   "metadata": {},
   "source": [
    "## Visualize Decision Boundary"
   ]
  },
  {
   "cell_type": "code",
   "execution_count": 290,
   "id": "387e9350",
   "metadata": {},
   "outputs": [],
   "source": [
    "iris_0 = iris_df[iris_df['target']==0]\n",
    "iris_1 = iris_df[iris_df['target']==1]\n",
    "iris_0 = iris_0.to_numpy()\n",
    "iris_1 = iris_1.to_numpy()"
   ]
  },
  {
   "cell_type": "code",
   "execution_count": 328,
   "id": "a4a79902",
   "metadata": {},
   "outputs": [
    {
     "data": {
      "image/png": "[encoded data removed]",
      "text/plain": [
       "<Figure size 432x288 with 1 Axes>"
      ]
     },
     "metadata": {
      "needs_background": "light"
     },
     "output_type": "display_data"
    }
   ],
   "source": [
    "iris_data = iris_df.to_numpy()\n",
    "lspace = [min(iris_data[:,0]), max(iris_data[:,0])]\n",
    "m = -w[0]/w[3]\n",
    "a = m*lspace\n",
    "\n",
    "plt.xlabel(\"sepal length\")\n",
    "plt.ylabel(\"sepal width\")\n",
    "plt.plot(iris_0[:, 0], iris_0[:, 1], \"r.\")\n",
    "plt.plot(iris_1[:, 0], iris_1[:, 1], \"b.\")\n",
    "plt.xlim([4, 8])\n",
    "plt.ylim([0, 6])\n",
    "plt.plot(lspace, a)\n",
    "plt.show()"
   ]
  },
  {
   "cell_type": "code",
   "execution_count": null,
   "id": "268f6bf3",
   "metadata": {},
   "outputs": [],
   "source": []
  }
 ],
 "metadata": {
  "kernelspec": {
   "display_name": "Python 3.8 (tensorflow)",
   "language": "python",
   "name": "tensorflow"
  },
  "language_info": {
   "codemirror_mode": {
    "name": "ipython",
    "version": 3
   },
   "file_extension": ".py",
   "mimetype": "text/x-python",
   "name": "python",
   "nbconvert_exporter": "python",
   "pygments_lexer": "ipython3",
   "version": "3.8.8"
  }
 },
 "nbformat": 4,
 "nbformat_minor": 5
}
